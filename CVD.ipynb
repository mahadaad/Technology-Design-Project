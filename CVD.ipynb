{
 "cells": [
  {
   "cell_type": "markdown",
   "id": "19ab44b9-4cc6-4e81-8849-aa79a621ad8b",
   "metadata": {
    "panel-layout": {
     "height": 50.8125,
     "visible": true,
     "width": 100
    }
   },
   "source": [
    "## Cardiovascular Disease Data Science Project"
   ]
  },
  {
   "cell_type": "markdown",
   "id": "895d3ae9-3c43-44b6-a19a-85cec0a96064",
   "metadata": {
    "panel-layout": {
     "height": 44.07291793823242,
     "visible": true,
     "width": 100
    }
   },
   "source": [
    "### Data Preprocessing:"
   ]
  },
  {
   "cell_type": "markdown",
   "id": "632dd903-db88-4378-a1e3-d3c6514c01b5",
   "metadata": {
    "jp-MarkdownHeadingCollapsed": true,
    "panel-layout": {
     "height": 43.19791793823242,
     "visible": true,
     "width": 100
    }
   },
   "source": [
    "#### CVD Death Dataset"
   ]
  },
  {
   "cell_type": "code",
   "execution_count": 39,
   "id": "87f06836-cadb-457b-8322-af66cfb30f33",
   "metadata": {
    "panel-layout": {
     "height": 169.14584350585938,
     "visible": true,
     "width": 100
    }
   },
   "outputs": [
    {
     "data": {
      "text/plain": [
       "['Contents ',\n",
       " 'Notes',\n",
       " 'PHA_CVD_DEATH_SEX',\n",
       " 'PHN_CVD_DEATH_SEX',\n",
       " 'PHN_CVD_DEATH_AGE&SEX',\n",
       " 'STATE_CVD_DEATH_SEX',\n",
       " 'STATE_CVD_DEATH_AGE&SEX']"
      ]
     },
     "execution_count": 39,
     "metadata": {},
     "output_type": "execute_result"
    }
   ],
   "source": [
    "import pandas as pd\n",
    "# Load the Excel file to inspect sheet names\n",
    "excel_path = \"CVD-death.xlsx\"\n",
    "xls = pd.ExcelFile(excel_path)\n",
    "sheet_names = xls.sheet_names\n",
    "sheet_names"
   ]
  },
  {
   "cell_type": "markdown",
   "id": "a256960f-030c-4746-a304-76cf3ef3cc05",
   "metadata": {
    "panel-layout": {
     "height": 40.94791793823242,
     "visible": true,
     "width": 100
    }
   },
   "source": [
    "##### PHN_CVD_DEATH_AGE&SEX"
   ]
  },
  {
   "cell_type": "code",
   "execution_count": 40,
   "id": "62c35341-25c1-467f-82b9-78060a3ba521",
   "metadata": {
    "panel-layout": {
     "height": 312.66668701171875,
     "visible": true,
     "width": 100
    }
   },
   "outputs": [
    {
     "data": {
      "text/html": [
       "<div>\n",
       "<style scoped>\n",
       "    .dataframe tbody tr th:only-of-type {\n",
       "        vertical-align: middle;\n",
       "    }\n",
       "\n",
       "    .dataframe tbody tr th {\n",
       "        vertical-align: top;\n",
       "    }\n",
       "\n",
       "    .dataframe thead th {\n",
       "        text-align: right;\n",
       "    }\n",
       "</style>\n",
       "<table border=\"1\" class=\"dataframe\">\n",
       "  <thead>\n",
       "    <tr style=\"text-align: right;\">\n",
       "      <th></th>\n",
       "      <th>Unnamed: 0</th>\n",
       "      <th>Unnamed: 1</th>\n",
       "      <th>Persons aged 0–54</th>\n",
       "      <th>Unnamed: 3</th>\n",
       "      <th>Unnamed: 4</th>\n",
       "      <th>Unnamed: 5</th>\n",
       "      <th>Persons aged 55–74</th>\n",
       "      <th>Unnamed: 7</th>\n",
       "      <th>Unnamed: 8</th>\n",
       "      <th>Unnamed: 9</th>\n",
       "      <th>...</th>\n",
       "      <th>Unnamed: 27</th>\n",
       "      <th>Unnamed: 28</th>\n",
       "      <th>Unnamed: 29</th>\n",
       "      <th>Females aged 55–74</th>\n",
       "      <th>Unnamed: 31</th>\n",
       "      <th>Unnamed: 32</th>\n",
       "      <th>Unnamed: 33</th>\n",
       "      <th>Females aged 75+</th>\n",
       "      <th>Unnamed: 35</th>\n",
       "      <th>Unnamed: 36</th>\n",
       "    </tr>\n",
       "  </thead>\n",
       "  <tbody>\n",
       "    <tr>\n",
       "      <th>0</th>\n",
       "      <td>Code</td>\n",
       "      <td>Name</td>\n",
       "      <td>Annualised deaths</td>\n",
       "      <td>Deaths per 100,000</td>\n",
       "      <td>Annualised population</td>\n",
       "      <td>NaN</td>\n",
       "      <td>Annualised deaths</td>\n",
       "      <td>Deaths per 100,000</td>\n",
       "      <td>Annualised population</td>\n",
       "      <td>NaN</td>\n",
       "      <td>...</td>\n",
       "      <td>Deaths per 100,000</td>\n",
       "      <td>Annualised population</td>\n",
       "      <td>NaN</td>\n",
       "      <td>Annualised deaths</td>\n",
       "      <td>Deaths per 100,000</td>\n",
       "      <td>Annualised population</td>\n",
       "      <td>NaN</td>\n",
       "      <td>Annualised deaths</td>\n",
       "      <td>Deaths per 100,000</td>\n",
       "      <td>Annualised population</td>\n",
       "    </tr>\n",
       "    <tr>\n",
       "      <th>1</th>\n",
       "      <td>NaN</td>\n",
       "      <td>Australia</td>\n",
       "      <td>2026.67</td>\n",
       "      <td>11.41</td>\n",
       "      <td>17761316.33</td>\n",
       "      <td>NaN</td>\n",
       "      <td>7701</td>\n",
       "      <td>158.23</td>\n",
       "      <td>4865865.67</td>\n",
       "      <td>NaN</td>\n",
       "      <td>...</td>\n",
       "      <td>6.66</td>\n",
       "      <td>8823137.67</td>\n",
       "      <td>NaN</td>\n",
       "      <td>2364</td>\n",
       "      <td>95.41</td>\n",
       "      <td>2477755.67</td>\n",
       "      <td>NaN</td>\n",
       "      <td>19694.66</td>\n",
       "      <td>2186.51</td>\n",
       "      <td>900643.67</td>\n",
       "    </tr>\n",
       "    <tr>\n",
       "      <th>2</th>\n",
       "      <td>PHN101</td>\n",
       "      <td>Central and Eastern Sydney</td>\n",
       "      <td>86.56</td>\n",
       "      <td>7.19</td>\n",
       "      <td>1203539.33</td>\n",
       "      <td>NaN</td>\n",
       "      <td>344.08</td>\n",
       "      <td>127.38</td>\n",
       "      <td>270115</td>\n",
       "      <td>NaN</td>\n",
       "      <td>...</td>\n",
       "      <td>4.2</td>\n",
       "      <td>595109</td>\n",
       "      <td>NaN</td>\n",
       "      <td>91.96</td>\n",
       "      <td>66.56</td>\n",
       "      <td>138163.67</td>\n",
       "      <td>NaN</td>\n",
       "      <td>1083.17</td>\n",
       "      <td>1969.99</td>\n",
       "      <td>54983.67</td>\n",
       "    </tr>\n",
       "    <tr>\n",
       "      <th>3</th>\n",
       "      <td>PHN102</td>\n",
       "      <td>Northern Sydney</td>\n",
       "      <td>34.78</td>\n",
       "      <td>5.2</td>\n",
       "      <td>669055</td>\n",
       "      <td>NaN</td>\n",
       "      <td>156.07</td>\n",
       "      <td>88.64</td>\n",
       "      <td>176081.33</td>\n",
       "      <td>NaN</td>\n",
       "      <td>...</td>\n",
       "      <td>3.35</td>\n",
       "      <td>336569.67</td>\n",
       "      <td>NaN</td>\n",
       "      <td>41.18</td>\n",
       "      <td>45.07</td>\n",
       "      <td>91354.67</td>\n",
       "      <td>NaN</td>\n",
       "      <td>979.48</td>\n",
       "      <td>2523.13</td>\n",
       "      <td>38820</td>\n",
       "    </tr>\n",
       "    <tr>\n",
       "      <th>4</th>\n",
       "      <td>PHN103</td>\n",
       "      <td>Western Sydney</td>\n",
       "      <td>75.25</td>\n",
       "      <td>10.04</td>\n",
       "      <td>749635</td>\n",
       "      <td>NaN</td>\n",
       "      <td>249.93</td>\n",
       "      <td>158.56</td>\n",
       "      <td>157626</td>\n",
       "      <td>NaN</td>\n",
       "      <td>...</td>\n",
       "      <td>4.94</td>\n",
       "      <td>365882.33</td>\n",
       "      <td>NaN</td>\n",
       "      <td>78.18</td>\n",
       "      <td>97.4</td>\n",
       "      <td>80271.67</td>\n",
       "      <td>NaN</td>\n",
       "      <td>479.77</td>\n",
       "      <td>1981.62</td>\n",
       "      <td>24211</td>\n",
       "    </tr>\n",
       "  </tbody>\n",
       "</table>\n",
       "<p>5 rows × 37 columns</p>\n",
       "</div>"
      ],
      "text/plain": [
       "  Unnamed: 0                  Unnamed: 1  Persons aged 0–54  \\\n",
       "0       Code                        Name  Annualised deaths   \n",
       "1        NaN                   Australia            2026.67   \n",
       "2     PHN101  Central and Eastern Sydney              86.56   \n",
       "3     PHN102             Northern Sydney              34.78   \n",
       "4     PHN103              Western Sydney              75.25   \n",
       "\n",
       "           Unnamed: 3             Unnamed: 4  Unnamed: 5 Persons aged 55–74  \\\n",
       "0  Deaths per 100,000  Annualised population         NaN  Annualised deaths   \n",
       "1               11.41            17761316.33         NaN               7701   \n",
       "2                7.19             1203539.33         NaN             344.08   \n",
       "3                 5.2                 669055         NaN             156.07   \n",
       "4               10.04                 749635         NaN             249.93   \n",
       "\n",
       "           Unnamed: 7             Unnamed: 8  Unnamed: 9  ...  \\\n",
       "0  Deaths per 100,000  Annualised population         NaN  ...   \n",
       "1              158.23             4865865.67         NaN  ...   \n",
       "2              127.38                 270115         NaN  ...   \n",
       "3               88.64              176081.33         NaN  ...   \n",
       "4              158.56                 157626         NaN  ...   \n",
       "\n",
       "          Unnamed: 27            Unnamed: 28 Unnamed: 29  Females aged 55–74  \\\n",
       "0  Deaths per 100,000  Annualised population         NaN   Annualised deaths   \n",
       "1                6.66             8823137.67         NaN                2364   \n",
       "2                 4.2                 595109         NaN               91.96   \n",
       "3                3.35              336569.67         NaN               41.18   \n",
       "4                4.94              365882.33         NaN               78.18   \n",
       "\n",
       "          Unnamed: 31            Unnamed: 32 Unnamed: 33   Females aged 75+  \\\n",
       "0  Deaths per 100,000  Annualised population         NaN  Annualised deaths   \n",
       "1               95.41             2477755.67         NaN           19694.66   \n",
       "2               66.56              138163.67         NaN            1083.17   \n",
       "3               45.07               91354.67         NaN             979.48   \n",
       "4                97.4               80271.67         NaN             479.77   \n",
       "\n",
       "          Unnamed: 35            Unnamed: 36  \n",
       "0  Deaths per 100,000  Annualised population  \n",
       "1             2186.51              900643.67  \n",
       "2             1969.99               54983.67  \n",
       "3             2523.13                  38820  \n",
       "4             1981.62                  24211  \n",
       "\n",
       "[5 rows x 37 columns]"
      ]
     },
     "execution_count": 40,
     "metadata": {},
     "output_type": "execute_result"
    }
   ],
   "source": [
    "# Load and preview the 'PHA_CVD_DEATH_SEX' sheet\n",
    "df2 = xls.parse('PHN_CVD_DEATH_AGE&SEX', skiprows=9)\n",
    "df2.head()"
   ]
  },
  {
   "cell_type": "code",
   "execution_count": 41,
   "id": "8a377af4-affd-43f4-b2d7-fc6d18ca198a",
   "metadata": {},
   "outputs": [
    {
     "name": "stdout",
     "output_type": "stream",
     "text": [
      "'Unnamed: 0_level_0 - Code'\n",
      "'Unnamed: 1_level_0 - Name'\n",
      "'Persons aged 0–54 - Annualised deaths'\n",
      "'Persons aged 0–54 - Deaths per 100,000'\n",
      "'Persons aged 0–54 - Annualised population'\n",
      "'Persons aged 0–54 - Annualised population.1'\n",
      "'Persons aged 55–74 - Annualised deaths'\n",
      "'Persons aged 55–74 - Deaths per 100,000'\n",
      "'Persons aged 55–74 - Annualised population'\n",
      "'Persons aged 55–74 - Annualised population.1'\n",
      "'Persons aged 75+ - Annualised deaths'\n",
      "'Persons aged 75+ - Deaths per 100,000'\n",
      "'Persons aged 75+ - Annualised population'\n",
      "'Persons aged 75+ - Annualised population.1'\n",
      "'Males aged 0–54 - Annualised deaths'\n",
      "'Males aged 0–54 - Deaths per 100,000'\n",
      "'Males aged 0–54 - Annualised population'\n",
      "'Males aged 0–54 - Annualised population.1'\n",
      "'Males aged 55–74 - Annualised deaths'\n",
      "'Males aged 55–74 - Deaths per 100,000'\n",
      "'Males aged 55–74 - Annualised population'\n",
      "'Males aged 55–74 - Annualised population.1'\n",
      "'Males aged 75+ - Annualised deaths'\n",
      "'Males aged 75+ - Deaths per 100,000'\n",
      "'Males aged 75+ - Annualised population'\n",
      "'Males aged 75+ - Annualised population.1'\n",
      "'Females aged 0–54 - Annualised deaths'\n",
      "'Females aged 0–54 - Deaths per 100,000'\n",
      "'Females aged 0–54 - Annualised population'\n",
      "'Females aged 0–54 - Annualised population.1'\n",
      "'Females aged 55–74 - Annualised deaths'\n",
      "'Females aged 55–74 - Deaths per 100,000'\n",
      "'Females aged 55–74 - Annualised population'\n",
      "'Females aged 55–74 - Annualised population.1'\n",
      "'Females aged 75+ - Annualised deaths'\n",
      "'Females aged 75+ - Deaths per 100,000'\n",
      "'Females aged 75+ - Annualised population'\n"
     ]
    }
   ],
   "source": [
    "# Load with multi-level header (first 2 rows after skipping 9)\n",
    "df2_multi = xls.parse('PHN_CVD_DEATH_AGE&SEX', skiprows=9, header=[0, 1])\n",
    "\n",
    "# Flatten multi-level headers: Combine both header rows into a single line with clear labels\n",
    "df2_multi.columns = [\n",
    "    f\"{str(col1).strip()} - {str(col2).strip()}\" if str(col2).strip() != 'nan' else str(col1).strip()\n",
    "    for col1, col2 in df2_multi.columns\n",
    "]\n",
    "\n",
    "# Remove rows where the 'Code' column is NaN (region code column will contain 'Code' string)\n",
    "df2_multi = df2_multi[df2_multi[df2_multi.columns[0]] != 'Code']\n",
    "df2_multi = df2_multi[df2_multi[df2_multi.columns[0]].notna()]\n",
    "\n",
    "# Reset index for clarity\n",
    "df2_multi.reset_index(drop=True, inplace=True)\n",
    "\n",
    "for col in df2_multi.columns:\n",
    "    print(repr(col))"
   ]
  },
  {
   "cell_type": "code",
   "execution_count": 42,
   "id": "0f9b40a2-2a1c-4574-bbd6-a0cedb95883f",
   "metadata": {
    "panel-layout": {
     "height": 0,
     "visible": true,
     "width": 100
    }
   },
   "outputs": [],
   "source": [
    "# Step 1: Detect the 'Code' and 'Name' columns\n",
    "code_col = [col for col in df2_multi.columns if 'Code' in col][0]\n",
    "name_col = [col for col in df2_multi.columns if 'Name' in col][0]\n",
    "\n",
    "# Step 2: Define the selected columns\n",
    "selected_columns = [code_col, name_col] + [\n",
    "    'Persons aged 0–54 - Annualised deaths',\n",
    "    'Persons aged 0–54 - Deaths per 100,000',\n",
    "    'Persons aged 0–54 - Annualised population',\n",
    "    'Persons aged 55–74 - Annualised deaths',\n",
    "    'Persons aged 55–74 - Deaths per 100,000',\n",
    "    'Persons aged 55–74 - Annualised population',\n",
    "    'Persons aged 75+ - Annualised deaths',\n",
    "    'Persons aged 75+ - Deaths per 100,000',\n",
    "    'Persons aged 75+ - Annualised population',\n",
    "    'Males aged 0–54 - Annualised deaths',\n",
    "    'Males aged 0–54 - Deaths per 100,000',\n",
    "    'Males aged 0–54 - Annualised population',\n",
    "    'Males aged 55–74 - Annualised deaths',\n",
    "    'Males aged 55–74 - Deaths per 100,000',\n",
    "    'Males aged 55–74 - Annualised population',\n",
    "    'Males aged 75+ - Annualised deaths',\n",
    "    'Males aged 75+ - Deaths per 100,000',\n",
    "    'Males aged 75+ - Annualised population',\n",
    "    'Females aged 0–54 - Annualised deaths',\n",
    "    'Females aged 0–54 - Deaths per 100,000',\n",
    "    'Females aged 0–54 - Annualised population',\n",
    "    'Females aged 55–74 - Annualised deaths',\n",
    "    'Females aged 55–74 - Deaths per 100,000',\n",
    "    'Females aged 55–74 - Annualised population',\n",
    "    'Females aged 75+ - Annualised deaths',\n",
    "    'Females aged 75+ - Deaths per 100,000',\n",
    "    'Females aged 75+ - Annualised population'\n",
    "]\n",
    "\n",
    "# Step 3: Select and rename columns\n",
    "df2_selected = df2_multi[selected_columns].copy()\n",
    "df2_selected = df2_selected.rename(columns={code_col: 'Code', name_col: 'Region'})\n",
    "\n",
    "# Step 4: Melt to long format\n",
    "df2_final = pd.melt(df2_selected, id_vars=[\"Code\", \"Region\"],\n",
    "                    var_name=\"Group_Metric\", value_name=\"Value\")\n",
    "\n",
    "# Step 5: Extract Group, AgeGroup, and Metric from Group_Metric\n",
    "df2_final[['Gender', 'AgeGroup', 'Metric']] = df2_final['Group_Metric'].str.extract(r'(\\w+) aged ([\\d+–]+|\\d+\\+)\\s-\\s(.+)')\n",
    "df2_final.drop(columns=\"Group_Metric\", inplace=True)\n",
    "\n",
    "# Step 6: Pivot to wide format (optional, if you want metrics as columns)\n",
    "df2_final_clean = df2_final.pivot_table(index=[\"Code\", \"Region\", \"Gender\", \"AgeGroup\"],\n",
    "                                        columns=\"Metric\",\n",
    "                                        values=\"Value\",\n",
    "                                        aggfunc=\"first\").reset_index()\n",
    "\n",
    "# Step 7: Convert numeric values safely\n",
    "for col in df2_final_clean.columns[4:]:\n",
    "    df2_final_clean[col] = pd.to_numeric(df2_final_clean[col], errors='coerce')\n",
    "    df2_final_clean[\"Year\"] = \"2017-2018\"\n",
    "\n",
    "df2_final_clean.rename(columns={\n",
    "    \"Deaths per 100,000\": \"DeathRatePer100k\",\n",
    "    'Annualised deaths': 'AnnualisedDeaths',\n",
    "    'Annualised population': 'AnnualisedPop'\n",
    "}, inplace=True)\n",
    "\n",
    "\n",
    "# Step 8: Export final CSV\n",
    "df2_final_clean.to_csv(\"PHN_CVD_DEATH_AGE&SEX.csv\", index=False, encoding='utf-8-sig')"
   ]
  },
  {
   "cell_type": "markdown",
   "id": "3044bb66-bd48-4f06-b1a9-fcd164c301b8",
   "metadata": {
    "jp-MarkdownHeadingCollapsed": true,
    "panel-layout": {
     "height": 43.19791793823242,
     "visible": true,
     "width": 100
    }
   },
   "source": [
    "#### CVD Hospitalisation"
   ]
  },
  {
   "cell_type": "code",
   "execution_count": 13,
   "id": "d2553ac5-151d-457c-8bc5-ad2df4701f39",
   "metadata": {
    "panel-layout": {
     "height": 254.82293701171875,
     "visible": true,
     "width": 100
    }
   },
   "outputs": [
    {
     "data": {
      "text/plain": [
       "['Contents ',\n",
       " 'Notes',\n",
       " 'PHA_CVD_HOSP_SEX_3YR',\n",
       " 'PHA_CVD_HOSP_AGE&SEX_3YR',\n",
       " 'PHN_CVD_HOSP_SEX_3YR',\n",
       " 'PHN_CVD_HOSP_AGE&SEX_3YR',\n",
       " 'PHN_CVD_HOSP_SEX_1YR',\n",
       " 'PHN_CVD_HOSP_AGE&SEX_1YR',\n",
       " 'STATE_CVD_HOSP_SEX_3YR',\n",
       " 'STATE_CVD_HOSP_AGE&SEX_3YR',\n",
       " 'STATE_CVD_HOSP_SEX_1YR',\n",
       " 'STATE_CVD_HOSP_AGE&SEX_1YR']"
      ]
     },
     "execution_count": 13,
     "metadata": {},
     "output_type": "execute_result"
    }
   ],
   "source": [
    "import pandas as pd\n",
    "# Load the Excel file to inspect sheet names\n",
    "excel_path = \"CVD-hospitalisation.xlsx\"\n",
    "xls= pd.ExcelFile(excel_path)\n",
    "sheet_names = xls.sheet_names\n",
    "sheet_names"
   ]
  },
  {
   "cell_type": "markdown",
   "id": "876e7e7f-9405-4b9d-9f33-56e4a8b01eaa",
   "metadata": {
    "panel-layout": {
     "height": 40.94791793823242,
     "visible": true,
     "width": 100
    }
   },
   "source": [
    "##### PHN_CVD_HOSP_AGE&SEX_1YR"
   ]
  },
  {
   "cell_type": "code",
   "execution_count": 14,
   "id": "52839e59-ac70-49d8-a370-8c20028094e6",
   "metadata": {
    "panel-layout": {
     "height": 283.3333435058594,
     "visible": true,
     "width": 100
    }
   },
   "outputs": [
    {
     "data": {
      "text/html": [
       "<div>\n",
       "<style scoped>\n",
       "    .dataframe tbody tr th:only-of-type {\n",
       "        vertical-align: middle;\n",
       "    }\n",
       "\n",
       "    .dataframe tbody tr th {\n",
       "        vertical-align: top;\n",
       "    }\n",
       "\n",
       "    .dataframe thead th {\n",
       "        text-align: right;\n",
       "    }\n",
       "</style>\n",
       "<table border=\"1\" class=\"dataframe\">\n",
       "  <thead>\n",
       "    <tr style=\"text-align: right;\">\n",
       "      <th></th>\n",
       "      <th>Unnamed: 0</th>\n",
       "      <th>Unnamed: 1</th>\n",
       "      <th>Persons aged 0–54</th>\n",
       "      <th>Unnamed: 3</th>\n",
       "      <th>Unnamed: 4</th>\n",
       "      <th>Unnamed: 5</th>\n",
       "      <th>Persons aged 55–74</th>\n",
       "      <th>Unnamed: 7</th>\n",
       "      <th>Unnamed: 8</th>\n",
       "      <th>Unnamed: 9</th>\n",
       "      <th>...</th>\n",
       "      <th>Unnamed: 27</th>\n",
       "      <th>Unnamed: 28</th>\n",
       "      <th>Unnamed: 29</th>\n",
       "      <th>Females aged 55–74</th>\n",
       "      <th>Unnamed: 31</th>\n",
       "      <th>Unnamed: 32</th>\n",
       "      <th>Unnamed: 33</th>\n",
       "      <th>Females aged 75+</th>\n",
       "      <th>Unnamed: 35</th>\n",
       "      <th>Unnamed: 36</th>\n",
       "    </tr>\n",
       "  </thead>\n",
       "  <tbody>\n",
       "    <tr>\n",
       "      <th>0</th>\n",
       "      <td>Code</td>\n",
       "      <td>Name</td>\n",
       "      <td>Annual hospitalisations</td>\n",
       "      <td>Hospitalisations per 100,000</td>\n",
       "      <td>Annual population</td>\n",
       "      <td>NaN</td>\n",
       "      <td>Annual hospitalisations</td>\n",
       "      <td>Hospitalisations per 100,000</td>\n",
       "      <td>Annual population</td>\n",
       "      <td>NaN</td>\n",
       "      <td>...</td>\n",
       "      <td>Hospitalisations per 100,000</td>\n",
       "      <td>Annual population</td>\n",
       "      <td>NaN</td>\n",
       "      <td>Annual hospitalisations</td>\n",
       "      <td>Hospitalisations per 100,000</td>\n",
       "      <td>Annual population</td>\n",
       "      <td>NaN</td>\n",
       "      <td>Annual hospitalisations</td>\n",
       "      <td>Hospitalisations per 100,000</td>\n",
       "      <td>Annual population</td>\n",
       "    </tr>\n",
       "    <tr>\n",
       "      <th>1</th>\n",
       "      <td>NaN</td>\n",
       "      <td>Australia</td>\n",
       "      <td>98563</td>\n",
       "      <td>545.12</td>\n",
       "      <td>18080976.5</td>\n",
       "      <td>NaN</td>\n",
       "      <td>248584</td>\n",
       "      <td>4920.62</td>\n",
       "      <td>5051884.5</td>\n",
       "      <td>NaN</td>\n",
       "      <td>...</td>\n",
       "      <td>457.8</td>\n",
       "      <td>8983625.5</td>\n",
       "      <td>NaN</td>\n",
       "      <td>89199</td>\n",
       "      <td>3459.07</td>\n",
       "      <td>2578702</td>\n",
       "      <td>NaN</td>\n",
       "      <td>114781</td>\n",
       "      <td>12283.31</td>\n",
       "      <td>934447</td>\n",
       "    </tr>\n",
       "    <tr>\n",
       "      <th>2</th>\n",
       "      <td>PHN101</td>\n",
       "      <td>Central and Eastern Sydney</td>\n",
       "      <td>5197.24</td>\n",
       "      <td>419.82</td>\n",
       "      <td>1237964</td>\n",
       "      <td>NaN</td>\n",
       "      <td>13678.04</td>\n",
       "      <td>4877.43</td>\n",
       "      <td>280435.5</td>\n",
       "      <td>NaN</td>\n",
       "      <td>...</td>\n",
       "      <td>319.91</td>\n",
       "      <td>611451</td>\n",
       "      <td>NaN</td>\n",
       "      <td>4707.88</td>\n",
       "      <td>3273.14</td>\n",
       "      <td>143834</td>\n",
       "      <td>NaN</td>\n",
       "      <td>6841.1</td>\n",
       "      <td>12075.02</td>\n",
       "      <td>56655</td>\n",
       "    </tr>\n",
       "    <tr>\n",
       "      <th>3</th>\n",
       "      <td>PHN102</td>\n",
       "      <td>Northern Sydney</td>\n",
       "      <td>2807.76</td>\n",
       "      <td>410.98</td>\n",
       "      <td>683183.5</td>\n",
       "      <td>NaN</td>\n",
       "      <td>7912.67</td>\n",
       "      <td>4368.25</td>\n",
       "      <td>181140.5</td>\n",
       "      <td>NaN</td>\n",
       "      <td>...</td>\n",
       "      <td>335.66</td>\n",
       "      <td>343745.5</td>\n",
       "      <td>NaN</td>\n",
       "      <td>2977.35</td>\n",
       "      <td>3168.1</td>\n",
       "      <td>93979</td>\n",
       "      <td>NaN</td>\n",
       "      <td>5456.2</td>\n",
       "      <td>13673.16</td>\n",
       "      <td>39904.5</td>\n",
       "    </tr>\n",
       "    <tr>\n",
       "      <th>4</th>\n",
       "      <td>PHN103</td>\n",
       "      <td>Western Sydney</td>\n",
       "      <td>3612.67</td>\n",
       "      <td>463.15</td>\n",
       "      <td>780021</td>\n",
       "      <td>NaN</td>\n",
       "      <td>8093.86</td>\n",
       "      <td>4920.13</td>\n",
       "      <td>164505</td>\n",
       "      <td>NaN</td>\n",
       "      <td>...</td>\n",
       "      <td>372.17</td>\n",
       "      <td>380074</td>\n",
       "      <td>NaN</td>\n",
       "      <td>2681.44</td>\n",
       "      <td>3196.19</td>\n",
       "      <td>83895</td>\n",
       "      <td>NaN</td>\n",
       "      <td>3050.73</td>\n",
       "      <td>11997.04</td>\n",
       "      <td>25429</td>\n",
       "    </tr>\n",
       "  </tbody>\n",
       "</table>\n",
       "<p>5 rows × 37 columns</p>\n",
       "</div>"
      ],
      "text/plain": [
       "  Unnamed: 0                  Unnamed: 1        Persons aged 0–54  \\\n",
       "0       Code                        Name  Annual hospitalisations   \n",
       "1        NaN                   Australia                    98563   \n",
       "2     PHN101  Central and Eastern Sydney                  5197.24   \n",
       "3     PHN102             Northern Sydney                  2807.76   \n",
       "4     PHN103              Western Sydney                  3612.67   \n",
       "\n",
       "                     Unnamed: 3         Unnamed: 4  Unnamed: 5  \\\n",
       "0  Hospitalisations per 100,000  Annual population         NaN   \n",
       "1                        545.12         18080976.5         NaN   \n",
       "2                        419.82            1237964         NaN   \n",
       "3                        410.98           683183.5         NaN   \n",
       "4                        463.15             780021         NaN   \n",
       "\n",
       "        Persons aged 55–74                    Unnamed: 7         Unnamed: 8  \\\n",
       "0  Annual hospitalisations  Hospitalisations per 100,000  Annual population   \n",
       "1                   248584                       4920.62          5051884.5   \n",
       "2                 13678.04                       4877.43           280435.5   \n",
       "3                  7912.67                       4368.25           181140.5   \n",
       "4                  8093.86                       4920.13             164505   \n",
       "\n",
       "   Unnamed: 9  ...                   Unnamed: 27        Unnamed: 28  \\\n",
       "0         NaN  ...  Hospitalisations per 100,000  Annual population   \n",
       "1         NaN  ...                         457.8          8983625.5   \n",
       "2         NaN  ...                        319.91             611451   \n",
       "3         NaN  ...                        335.66           343745.5   \n",
       "4         NaN  ...                        372.17             380074   \n",
       "\n",
       "  Unnamed: 29       Females aged 55–74                   Unnamed: 31  \\\n",
       "0         NaN  Annual hospitalisations  Hospitalisations per 100,000   \n",
       "1         NaN                    89199                       3459.07   \n",
       "2         NaN                  4707.88                       3273.14   \n",
       "3         NaN                  2977.35                        3168.1   \n",
       "4         NaN                  2681.44                       3196.19   \n",
       "\n",
       "         Unnamed: 32 Unnamed: 33         Females aged 75+  \\\n",
       "0  Annual population         NaN  Annual hospitalisations   \n",
       "1            2578702         NaN                   114781   \n",
       "2             143834         NaN                   6841.1   \n",
       "3              93979         NaN                   5456.2   \n",
       "4              83895         NaN                  3050.73   \n",
       "\n",
       "                    Unnamed: 35        Unnamed: 36  \n",
       "0  Hospitalisations per 100,000  Annual population  \n",
       "1                      12283.31             934447  \n",
       "2                      12075.02              56655  \n",
       "3                      13673.16            39904.5  \n",
       "4                      11997.04              25429  \n",
       "\n",
       "[5 rows x 37 columns]"
      ]
     },
     "execution_count": 14,
     "metadata": {},
     "output_type": "execute_result"
    }
   ],
   "source": [
    "# Load and preview the 'PHA_CVD_DEATH_SEX' sheet\n",
    "df5 = xls.parse('PHN_CVD_HOSP_AGE&SEX_1YR', skiprows=9)\n",
    "df5.head()"
   ]
  },
  {
   "cell_type": "code",
   "execution_count": 15,
   "id": "61d3cbf0-31a9-4d1b-bcaf-e1570d2904b3",
   "metadata": {},
   "outputs": [
    {
     "name": "stdout",
     "output_type": "stream",
     "text": [
      "'Unnamed: 0_level_0 - Code'\n",
      "'Unnamed: 1_level_0 - Name'\n",
      "'Persons aged 0–54 - Annual hospitalisations'\n",
      "'Persons aged 0–54 - Hospitalisations per 100,000'\n",
      "'Persons aged 0–54 - Annual population'\n",
      "'Persons aged 0–54 - Annual population.1'\n",
      "'Persons aged 55–74 - Annual hospitalisations'\n",
      "'Persons aged 55–74 - Hospitalisations per 100,000'\n",
      "'Persons aged 55–74 - Annual population'\n",
      "'Persons aged 55–74 - Annual population.1'\n",
      "'Persons aged 75+ - Annual hospitalisations'\n",
      "'Persons aged 75+ - Hospitalisations per 100,000'\n",
      "'Persons aged 75+ - Annual population'\n",
      "'Persons aged 75+ - Annual population.1'\n",
      "'Males aged 0–54 - Annual hospitalisations'\n",
      "'Males aged 0–54 - Hospitalisations per 100,000'\n",
      "'Males aged 0–54 - Annual population'\n",
      "'Males aged 0–54 - Annual population.1'\n",
      "'Males aged 55–74 - Annual hospitalisations'\n",
      "'Males aged 55–74 - Hospitalisations per 100,000'\n",
      "'Males aged 55–74 - Annual population'\n",
      "'Males aged 55–74 - Annual population.1'\n",
      "'Males aged 75+ - Annual hospitalisations'\n",
      "'Males aged 75+ - Hospitalisations per 100,000'\n",
      "'Males aged 75+ - Annual population'\n",
      "'Males aged 75+ - Annual population.1'\n",
      "'Females aged 0–54 - Annual hospitalisations'\n",
      "'Females aged 0–54 - Hospitalisations per 100,000'\n",
      "'Females aged 0–54 - Annual population'\n",
      "'Females aged 0–54 - Annual population.1'\n",
      "'Females aged 55–74 - Annual hospitalisations'\n",
      "'Females aged 55–74 - Hospitalisations per 100,000'\n",
      "'Females aged 55–74 - Annual population'\n",
      "'Females aged 55–74 - Annual population.1'\n",
      "'Females aged 75+ - Annual hospitalisations'\n",
      "'Females aged 75+ - Hospitalisations per 100,000'\n",
      "'Females aged 75+ - Annual population'\n"
     ]
    }
   ],
   "source": [
    "# Load with multi-level header (first 2 rows after skipping 9)\n",
    "df5_multi = xls.parse('PHN_CVD_HOSP_AGE&SEX_1YR', skiprows=9, header=[0, 1])\n",
    "\n",
    "# Flatten multi-level headers: Combine both header rows into a single line with clear labels\n",
    "df5_multi.columns = [\n",
    "    f\"{str(col1).strip()} - {str(col2).strip()}\" if str(col2).strip() != 'nan' else str(col1).strip()\n",
    "    for col1, col2 in df5_multi.columns\n",
    "]\n",
    "\n",
    "# Remove rows where the 'Code' column is NaN (region code column will contain 'Code' string)\n",
    "df5_multi = df5_multi[df5_multi[df5_multi.columns[0]] != 'Code']\n",
    "df5_multi = df5_multi[df5_multi[df5_multi.columns[0]].notna()]\n",
    "\n",
    "# Reset index for clarity\n",
    "df5_multi.reset_index(drop=True, inplace=True)\n",
    "\n",
    "for col in df5_multi.columns:\n",
    "    print(repr(col))"
   ]
  },
  {
   "cell_type": "code",
   "execution_count": 16,
   "id": "09a49297-1e25-48b8-b450-c5096bad3290",
   "metadata": {
    "panel-layout": {
     "height": 0,
     "visible": true,
     "width": 100
    }
   },
   "outputs": [
    {
     "name": "stdout",
     "output_type": "stream",
     "text": [
      "Successfully cleaned and saved as 'PHN_CVD_HOSP_AGE&SEX_1YR.csv'\n"
     ]
    }
   ],
   "source": [
    "import pandas as pd\n",
    "\n",
    "# Step 1: Detect and rename the 'Code' and 'Name' columns properly\n",
    "code_col = [col for col in df5_multi.columns if 'Code' in col][0]\n",
    "name_col = [col for col in df5_multi.columns if 'Name' in col][0]\n",
    "\n",
    "# Step 2: Define the relevant columns\n",
    "selected_columns = [code_col, name_col] + [\n",
    "    'Persons aged 0–54 - Annual hospitalisations',\n",
    "    'Persons aged 0–54 - Hospitalisations per 100,000',\n",
    "    'Persons aged 0–54 - Annual population',\n",
    "    'Persons aged 0–54 - Annual population.1',\n",
    "    'Persons aged 55–74 - Annual hospitalisations',\n",
    "    'Persons aged 55–74 - Hospitalisations per 100,000',\n",
    "    'Persons aged 55–74 - Annual population',\n",
    "    'Persons aged 55–74 - Annual population.1',\n",
    "    'Persons aged 75+ - Annual hospitalisations',\n",
    "    'Persons aged 75+ - Hospitalisations per 100,000',\n",
    "    'Persons aged 75+ - Annual population',\n",
    "    'Persons aged 75+ - Annual population.1',\n",
    "    'Males aged 0–54 - Annual hospitalisations',\n",
    "    'Males aged 0–54 - Hospitalisations per 100,000',\n",
    "    'Males aged 0–54 - Annual population',\n",
    "    'Males aged 0–54 - Annual population.1',\n",
    "    'Males aged 55–74 - Annual hospitalisations',\n",
    "    'Males aged 55–74 - Hospitalisations per 100,000',\n",
    "    'Males aged 55–74 - Annual population',\n",
    "    'Males aged 55–74 - Annual population.1',\n",
    "    'Males aged 75+ - Annual hospitalisations',\n",
    "    'Males aged 75+ - Hospitalisations per 100,000',\n",
    "    'Males aged 75+ - Annual population',\n",
    "    'Males aged 75+ - Annual population.1',\n",
    "    'Females aged 0–54 - Annual hospitalisations',\n",
    "    'Females aged 0–54 - Hospitalisations per 100,000',\n",
    "    'Females aged 0–54 - Annual population',\n",
    "    'Females aged 0–54 - Annual population.1',\n",
    "    'Females aged 55–74 - Annual hospitalisations',\n",
    "    'Females aged 55–74 - Hospitalisations per 100,000',\n",
    "    'Females aged 55–74 - Annual population',\n",
    "    'Females aged 55–74 - Annual population.1',\n",
    "    'Females aged 75+ - Annual hospitalisations',\n",
    "    'Females aged 75+ - Hospitalisations per 100,000',\n",
    "    'Females aged 75+ - Annual population'\n",
    "]\n",
    "\n",
    "# Step 3: Select and rename 'Code' -> 'Code', 'Name' -> 'Region'\n",
    "df5_selected = df5_multi[selected_columns].copy()\n",
    "df5_selected = df5_selected.rename(columns={code_col: 'Code', name_col: 'Region'})\n",
    "\n",
    "# Step 4: Melt to long format\n",
    "df5_melted = pd.melt(df5_selected, id_vars=[\"Code\", \"Region\"], \n",
    "                     var_name=\"Group_Metric\", value_name=\"Value\")\n",
    "\n",
    "# Step 5: Extract Gender, AgeGroup, and Metric using regex\n",
    "df5_melted[['Gender', 'AgeGroup', 'Metric']] = df5_melted['Group_Metric'].str.extract(\n",
    "    r'(\\w+)\\saged*\\s*(\\d+–\\d+|\\d+\\+)?\\s*-\\s*(.+)'\n",
    ")\n",
    "\n",
    "# Step 6: Fill missing AgeGroup as 'All ages'\n",
    "df5_melted['AgeGroup'] = df5_melted['AgeGroup'].fillna('All ages')\n",
    "\n",
    "# Step 7: Drop the original combined Group_Metric column\n",
    "df5_melted.drop(columns=[\"Group_Metric\"], inplace=True)\n",
    "\n",
    "# Step 8: Pivot wider (metrics become separate columns)\n",
    "df5_final_clean = df5_melted.pivot_table(index=[\"Code\", \"Region\", \"Gender\", \"AgeGroup\"],\n",
    "                                         columns=\"Metric\",\n",
    "                                         values=\"Value\",\n",
    "                                         aggfunc=\"first\").reset_index()\n",
    "\n",
    "# Step 9: Rename metric columns according to requirements\n",
    "df5_final_clean = df5_final_clean.rename(columns={\n",
    "    'Annual hospitalisations': 'AnnualisedDeaths',\n",
    "    'Hospitalisations per 100,000': 'HospitalisationsPer100k',\n",
    "    'Annual population': 'AnnualisedPop'\n",
    "})\n",
    "\n",
    "# Step 10: Convert numeric columns properly\n",
    "numeric_cols = [\"AnnualisedDeaths\", \"AnnualisedPop\", \"HospitalisationsPer100k\"]\n",
    "for col in numeric_cols:\n",
    "    if col in df5_final_clean.columns:\n",
    "        df5_final_clean[col] = pd.to_numeric(df5_final_clean[col], errors='coerce')\n",
    "        df5_final_clean[\"Year\"] = \"2017-2018\"\n",
    "\n",
    "# Step 11: Export the final cleaned CSV\n",
    "df5_final_clean.to_csv(\"PHN_CVD_HOSP_AGE&SEX_1YR.csv\", index=False, encoding='utf-8-sig')\n",
    "\n",
    "print(\"Successfully cleaned and saved as 'PHN_CVD_HOSP_AGE&SEX_1YR.csv'\")"
   ]
  },
  {
   "cell_type": "markdown",
   "id": "534aecbd-e60a-4f38-aac9-0fb05b983ada",
   "metadata": {
    "jp-MarkdownHeadingCollapsed": true,
    "panel-layout": {
     "height": 43.19791793823242,
     "visible": true,
     "width": 100
    }
   },
   "source": [
    "#### CVD Socioeconomic & Population"
   ]
  },
  {
   "cell_type": "code",
   "execution_count": 63,
   "id": "1d7b0923-7f5b-4667-af41-ca15db85f68a",
   "metadata": {
    "panel-layout": {
     "height": 134.875,
     "visible": true,
     "width": 100
    }
   },
   "outputs": [
    {
     "data": {
      "text/plain": [
       "['Contents',\n",
       " 'Notes',\n",
       " 'PHA_SOCIOECO&POP_CHARACTERISTIC',\n",
       " 'PHN_SOCIOECO&POP_CHARACTERISTIC',\n",
       " 'ST_SOCIOECO&POP_CHARACTERISTIC']"
      ]
     },
     "execution_count": 63,
     "metadata": {},
     "output_type": "execute_result"
    }
   ],
   "source": [
    "import pandas as pd\n",
    "# Load the Excel file to inspect sheet names\n",
    "xls = pd.ExcelFile(\"socioeconomic&population.xlsx\")\n",
    "sheet_names = xls.sheet_names\n",
    "sheet_names"
   ]
  },
  {
   "cell_type": "markdown",
   "id": "945fee6b-a479-4908-b4b8-846633f318f0",
   "metadata": {
    "panel-layout": {
     "height": 40.94791793823242,
     "visible": true,
     "width": 100
    }
   },
   "source": [
    "##### PHA_SOCIOECO&POP_CHARACTERISTIC"
   ]
  },
  {
   "cell_type": "code",
   "execution_count": 64,
   "id": "f4403cec-0518-4903-8b42-f763a49a4d54",
   "metadata": {
    "panel-layout": {
     "height": 444.66668701171875,
     "visible": true,
     "width": 100
    }
   },
   "outputs": [
    {
     "data": {
      "text/html": [
       "<div>\n",
       "<style scoped>\n",
       "    .dataframe tbody tr th:only-of-type {\n",
       "        vertical-align: middle;\n",
       "    }\n",
       "\n",
       "    .dataframe tbody tr th {\n",
       "        vertical-align: top;\n",
       "    }\n",
       "\n",
       "    .dataframe thead th {\n",
       "        text-align: right;\n",
       "    }\n",
       "</style>\n",
       "<table border=\"1\" class=\"dataframe\">\n",
       "  <thead>\n",
       "    <tr style=\"text-align: right;\">\n",
       "      <th></th>\n",
       "      <th></th>\n",
       "      <th>Unnamed: 1</th>\n",
       "      <th>Population by socioeconomic quintile group</th>\n",
       "      <th>Unnamed: 3</th>\n",
       "      <th>Unnamed: 4</th>\n",
       "      <th>Unnamed: 5</th>\n",
       "      <th>Unnamed: 6</th>\n",
       "      <th>Unnamed: 7</th>\n",
       "      <th>Internet access in private dwellings</th>\n",
       "      <th>Unnamed: 9</th>\n",
       "      <th>...</th>\n",
       "      <th>Unnamed: 15</th>\n",
       "      <th>Unnamed: 16</th>\n",
       "      <th>Unnamed: 17</th>\n",
       "      <th>Proficiency in spoken English</th>\n",
       "      <th>Unnamed: 19</th>\n",
       "      <th>Aboriginal and Torres Strait Islander population</th>\n",
       "      <th>Unnamed: 21</th>\n",
       "      <th>Population aged 65 and over</th>\n",
       "      <th>Unnamed: 23</th>\n",
       "      <th>Elderly population aged 70+ living in in permanent residential aged care</th>\n",
       "    </tr>\n",
       "  </thead>\n",
       "  <tbody>\n",
       "    <tr>\n",
       "      <th>0</th>\n",
       "      <td>NaN</td>\n",
       "      <td>NaN</td>\n",
       "      <td>NaN</td>\n",
       "      <td>NaN</td>\n",
       "      <td>Per cent</td>\n",
       "      <td>NaN</td>\n",
       "      <td>NaN</td>\n",
       "      <td>NaN</td>\n",
       "      <td>Per cent</td>\n",
       "      <td>NaN</td>\n",
       "      <td>...</td>\n",
       "      <td>NaN</td>\n",
       "      <td>NaN</td>\n",
       "      <td>NaN</td>\n",
       "      <td>Per cent</td>\n",
       "      <td>NaN</td>\n",
       "      <td>Per cent</td>\n",
       "      <td>NaN</td>\n",
       "      <td>Per cent</td>\n",
       "      <td>NaN</td>\n",
       "      <td>Per cent</td>\n",
       "    </tr>\n",
       "    <tr>\n",
       "      <th>1</th>\n",
       "      <td>Code</td>\n",
       "      <td>Name</td>\n",
       "      <td>Group 1</td>\n",
       "      <td>Group 2</td>\n",
       "      <td>Group 3</td>\n",
       "      <td>Group 4</td>\n",
       "      <td>Group 5</td>\n",
       "      <td>NaN</td>\n",
       "      <td>Without internet</td>\n",
       "      <td>NaN</td>\n",
       "      <td>...</td>\n",
       "      <td>Diploma/advanced diploma or certificate level ...</td>\n",
       "      <td>Secondary or lower level (incl. certificates I...</td>\n",
       "      <td>NaN</td>\n",
       "      <td>Low or no profiency in English</td>\n",
       "      <td>NaN</td>\n",
       "      <td>NaN</td>\n",
       "      <td>NaN</td>\n",
       "      <td>NaN</td>\n",
       "      <td>NaN</td>\n",
       "      <td>NaN</td>\n",
       "    </tr>\n",
       "    <tr>\n",
       "      <th>2</th>\n",
       "      <td>AUS</td>\n",
       "      <td>Australia</td>\n",
       "      <td>18.3487</td>\n",
       "      <td>19.4229</td>\n",
       "      <td>21.192</td>\n",
       "      <td>20.532</td>\n",
       "      <td>20.489</td>\n",
       "      <td>NaN</td>\n",
       "      <td>14.687727</td>\n",
       "      <td>NaN</td>\n",
       "      <td>...</td>\n",
       "      <td>27.787386</td>\n",
       "      <td>32.751993</td>\n",
       "      <td>NaN</td>\n",
       "      <td>16.77113</td>\n",
       "      <td>NaN</td>\n",
       "      <td>3.300269</td>\n",
       "      <td>NaN</td>\n",
       "      <td>15.711414</td>\n",
       "      <td>NaN</td>\n",
       "      <td>6.213786</td>\n",
       "    </tr>\n",
       "    <tr>\n",
       "      <th>3</th>\n",
       "      <td>PHA010000</td>\n",
       "      <td>Gosford - South East</td>\n",
       "      <td>0</td>\n",
       "      <td>0</td>\n",
       "      <td>0</td>\n",
       "      <td>59.367883</td>\n",
       "      <td>40.632117</td>\n",
       "      <td>NaN</td>\n",
       "      <td>10.572412</td>\n",
       "      <td>NaN</td>\n",
       "      <td>...</td>\n",
       "      <td>34.8</td>\n",
       "      <td>26.7</td>\n",
       "      <td>NaN</td>\n",
       "      <td>8.591885</td>\n",
       "      <td>NaN</td>\n",
       "      <td>2.67977</td>\n",
       "      <td>NaN</td>\n",
       "      <td>19.451951</td>\n",
       "      <td>NaN</td>\n",
       "      <td>0</td>\n",
       "    </tr>\n",
       "    <tr>\n",
       "      <th>4</th>\n",
       "      <td>PHA010001</td>\n",
       "      <td>Calga - Kulnura/ Narara/ Niagara Park - Lisarow</td>\n",
       "      <td>0</td>\n",
       "      <td>0</td>\n",
       "      <td>58.563907</td>\n",
       "      <td>41.436093</td>\n",
       "      <td>0</td>\n",
       "      <td>NaN</td>\n",
       "      <td>11.100761</td>\n",
       "      <td>NaN</td>\n",
       "      <td>...</td>\n",
       "      <td>35.7</td>\n",
       "      <td>32.2</td>\n",
       "      <td>NaN</td>\n",
       "      <td>12.437811</td>\n",
       "      <td>NaN</td>\n",
       "      <td>3.194856</td>\n",
       "      <td>NaN</td>\n",
       "      <td>14.529785</td>\n",
       "      <td>NaN</td>\n",
       "      <td>4.99755</td>\n",
       "    </tr>\n",
       "  </tbody>\n",
       "</table>\n",
       "<p>5 rows × 25 columns</p>\n",
       "</div>"
      ],
      "text/plain": [
       "                                                   Unnamed: 1  \\\n",
       "0        NaN                                              NaN   \n",
       "1       Code                                             Name   \n",
       "2        AUS                                        Australia   \n",
       "3  PHA010000                             Gosford - South East   \n",
       "4  PHA010001  Calga - Kulnura/ Narara/ Niagara Park - Lisarow   \n",
       "\n",
       "  Population by socioeconomic quintile group Unnamed: 3 Unnamed: 4 Unnamed: 5  \\\n",
       "0                                        NaN        NaN   Per cent        NaN   \n",
       "1                                    Group 1    Group 2    Group 3    Group 4   \n",
       "2                                    18.3487    19.4229     21.192     20.532   \n",
       "3                                          0          0          0  59.367883   \n",
       "4                                          0          0  58.563907  41.436093   \n",
       "\n",
       "  Unnamed: 6  Unnamed: 7 Internet access in private dwellings  Unnamed: 9  \\\n",
       "0        NaN         NaN                             Per cent         NaN   \n",
       "1    Group 5         NaN                     Without internet         NaN   \n",
       "2     20.489         NaN                            14.687727         NaN   \n",
       "3  40.632117         NaN                            10.572412         NaN   \n",
       "4          0         NaN                            11.100761         NaN   \n",
       "\n",
       "   ...                                        Unnamed: 15  \\\n",
       "0  ...                                                NaN   \n",
       "1  ...  Diploma/advanced diploma or certificate level ...   \n",
       "2  ...                                          27.787386   \n",
       "3  ...                                               34.8   \n",
       "4  ...                                               35.7   \n",
       "\n",
       "                                         Unnamed: 16 Unnamed: 17  \\\n",
       "0                                                NaN         NaN   \n",
       "1  Secondary or lower level (incl. certificates I...         NaN   \n",
       "2                                          32.751993         NaN   \n",
       "3                                               26.7         NaN   \n",
       "4                                               32.2         NaN   \n",
       "\n",
       "   Proficiency in spoken English   Unnamed: 19  \\\n",
       "0                         Per cent         NaN   \n",
       "1   Low or no profiency in English         NaN   \n",
       "2                         16.77113         NaN   \n",
       "3                         8.591885         NaN   \n",
       "4                        12.437811         NaN   \n",
       "\n",
       "  Aboriginal and Torres Strait Islander population Unnamed: 21  \\\n",
       "0                                         Per cent         NaN   \n",
       "1                                              NaN         NaN   \n",
       "2                                         3.300269         NaN   \n",
       "3                                          2.67977         NaN   \n",
       "4                                         3.194856         NaN   \n",
       "\n",
       "   Population aged 65 and over Unnamed: 23  \\\n",
       "0                     Per cent         NaN   \n",
       "1                          NaN         NaN   \n",
       "2                    15.711414         NaN   \n",
       "3                    19.451951         NaN   \n",
       "4                    14.529785         NaN   \n",
       "\n",
       "   Elderly population aged 70+ living in in permanent residential aged care  \n",
       "0                                           Per cent                         \n",
       "1                                                NaN                         \n",
       "2                                           6.213786                         \n",
       "3                                                  0                         \n",
       "4                                            4.99755                         \n",
       "\n",
       "[5 rows x 25 columns]"
      ]
     },
     "execution_count": 64,
     "metadata": {},
     "output_type": "execute_result"
    }
   ],
   "source": [
    "# Load and preview the 'PHA_CVD_DEATH_SEX' sheet\n",
    "df = xls.parse('PHA_SOCIOECO&POP_CHARACTERISTIC', skiprows=9)\n",
    "df.head()"
   ]
  },
  {
   "cell_type": "code",
   "execution_count": 66,
   "id": "5ae558e9-6d17-436e-afa5-b1df8f32d092",
   "metadata": {
    "panel-layout": {
     "height": 421.25,
     "visible": true,
     "width": 100
    },
    "scrolled": true
   },
   "outputs": [
    {
     "data": {
      "text/plain": [
       "Index([' - Unnamed: 0_level_1', ' - Unnamed: 1_level_1',\n",
       "       'Population by socioeconomic quintile group - Unnamed: 2_level_1',\n",
       "       'Population by socioeconomic quintile group - Unnamed: 3_level_1',\n",
       "       'Population by socioeconomic quintile group - Per cent',\n",
       "       'Population by socioeconomic quintile group - Per cent.1',\n",
       "       'Population by socioeconomic quintile group - Per cent.2',\n",
       "       'Population by socioeconomic quintile group - Per cent.3',\n",
       "       'Internet access in private dwellings - Per cent',\n",
       "       'Internet access in private dwellings - Per cent.1',\n",
       "       'Housing suitability - Per cent', 'Housing suitability - Per cent.1',\n",
       "       'Unemployment (% of the 15–64 year olds in the labour force) - Per cent',\n",
       "       'Unemployment (% of the 15–64 year olds in the labour force) - Per cent.1',\n",
       "       'Educational attainment (25–74 year olds) - Per cent',\n",
       "       'Educational attainment (25–74 year olds) - Per cent.1',\n",
       "       'Educational attainment (25–74 year olds) - Per cent.2',\n",
       "       'Educational attainment (25–74 year olds) - Per cent.3',\n",
       "       'Proficiency in spoken English - Per cent',\n",
       "       'Proficiency in spoken English - Per cent.1',\n",
       "       'Aboriginal and Torres Strait Islander population - Per cent',\n",
       "       'Aboriginal and Torres Strait Islander population - Per cent.1',\n",
       "       'Population aged 65 and over - Per cent',\n",
       "       'Population aged 65 and over - Per cent.1',\n",
       "       'Elderly population aged 70+ living in in permanent residential aged care - Per cent'],\n",
       "      dtype='object')"
      ]
     },
     "execution_count": 66,
     "metadata": {},
     "output_type": "execute_result"
    }
   ],
   "source": [
    "# Load with multi-level header (first 2 rows after skipping 9)\n",
    "df_multi = xls.parse('PHA_SOCIOECO&POP_CHARACTERISTIC', skiprows=9, header=[0, 1])\n",
    "\n",
    "# Flatten multi-level headers: Combine both header rows into a single line with clear labels\n",
    "df_multi.columns = [\n",
    "    f\"{str(col1).strip()} - {str(col2).strip()}\" if str(col2).strip() != 'nan' else str(col1).strip()\n",
    "    for col1, col2 in df_multi.columns\n",
    "]\n",
    "\n",
    "# Remove rows where the 'Code' column is NaN (region code column will contain 'Code' string)\n",
    "df_multi = df_multi[df_multi[df_multi.columns[0]] != 'Code']\n",
    "df_multi = df_multi[df_multi[df_multi.columns[0]].notna()]\n",
    "\n",
    "# Reset index for clarity\n",
    "df_multi.reset_index(drop=True, inplace=True)\n",
    "\n",
    "# Display cleaned column names for reference\n",
    "df_multi.columns[0:]  # Show a sample of the first 15 columns to understand structure"
   ]
  },
  {
   "cell_type": "code",
   "execution_count": 67,
   "id": "dbde5ea3-6c21-4920-9cc8-e904c847fbfb",
   "metadata": {
    "panel-layout": {
     "height": 0,
     "visible": true,
     "width": 100
    }
   },
   "outputs": [
    {
     "name": "stdout",
     "output_type": "stream",
     "text": [
      "Cleaned file saved as 'PHA_SOCIOECO&POP_CHARACTERISTIC.csv'\n"
     ]
    }
   ],
   "source": [
    "# Step 2: Rename columns to simplified, dashboard-friendly names\n",
    "df_multi.rename(columns={\n",
    "    ' - Unnamed: 0_level_1': \"Code\",\n",
    "    ' - Unnamed: 1_level_1': \"Region\",\n",
    "    'Population by socioeconomic quintile group - Per cent': \"Low_SES_Percent\",\n",
    "    'Internet access in private dwellings - Per cent': \"Internet_NoAccess\",\n",
    "    'Housing suitability - Per cent': \"Housing_Unsuitable\",\n",
    "    'Unemployment (% of the 15–64 year olds in the labour force) - Per cent': \"Unemployment_Rate\",\n",
    "    'Educational attainment (25–74 year olds) - Per cent': \"Education_Level_Low\",\n",
    "    'Proficiency in spoken English - Per cent': \"English_Proficiency_Low\",\n",
    "    'Aboriginal and Torres Strait Islander population - Per cent': \"Aboriginal_Percent\",\n",
    "    'Population aged 65 and over - Per cent': \"Senior_65Plus_Percent\",\n",
    "    'Elderly population aged 70+ living in in permanent residential aged care - Per cent': \"Elderly_70_PermInstitution\"\n",
    "}, inplace=True)\n",
    "\n",
    "# Step 3: Keep only rows where 'Code' starts with 'PHA'\n",
    "df_cleaned = df_multi[df_multi['Code'].astype(str).str.startswith(\"PHA\")].copy()\n",
    "\n",
    "# Step 4: Select only necessary columns\n",
    "keep_columns = [\n",
    "    \"Code\", \"Region\", \"Low_SES_Percent\", \"Internet_NoAccess\", \"Housing_Unsuitable\",\n",
    "    \"Unemployment_Rate\", \"Education_Level_Low\", \"English_Proficiency_Low\",\n",
    "    \"Aboriginal_Percent\", \"Senior_65Plus_Percent\", \"Elderly_70_PermInstitution\"\n",
    "]\n",
    "df_final = df_cleaned[keep_columns].copy()\n",
    "\n",
    "# Step 5: Convert numeric columns\n",
    "for col in df_final.columns[2:]:  # skip Code, Region\n",
    "    df_final[col] = pd.to_numeric(df_final[col], errors=\"coerce\")\n",
    "# Add Year column\n",
    "    df_final[\"Year\"] = \"2017-2018\"\n",
    "# Step 6: Export cleaned data\n",
    "df_final.to_csv(\"PHA_SOCIOECO&POP_CHARACTERISTIC.csv\", index=False, encoding=\"utf-8-sig\")\n",
    "print(\"Cleaned file saved as 'PHA_SOCIOECO&POP_CHARACTERISTIC.csv'\")\n"
   ]
  },
  {
   "cell_type": "code",
   "execution_count": 68,
   "id": "d6e00daa-32c6-4d13-a6be-86d0cafbd6e6",
   "metadata": {
    "panel-layout": {
     "height": 0,
     "visible": true,
     "width": 100
    }
   },
   "outputs": [
    {
     "name": "stdout",
     "output_type": "stream",
     "text": [
      "Cleaning Complete\n",
      "Remaining missing values:\n",
      " Code                          0\n",
      "Region                        0\n",
      "Low_SES_Percent               0\n",
      "Internet_NoAccess             0\n",
      "Housing_Unsuitable            0\n",
      "Unemployment_Rate             0\n",
      "Education_Level_Low           0\n",
      "English_Proficiency_Low       0\n",
      "Aboriginal_Percent            0\n",
      "Senior_65Plus_Percent         0\n",
      "Elderly_70_PermInstitution    0\n",
      "Year                          0\n",
      "dtype: int64\n",
      "Shape after cleaning: (1164, 12)\n",
      "Sample cleaned data:\n",
      "        Code                                           Region  \\\n",
      "0  PHA010000                             GOSFORD - SOUTH EAST   \n",
      "1  PHA010001  CALGA - KULNURA/ NARARA/ NIAGARA PARK - LISAROW   \n",
      "2  PHA010002                         ERINA - GREEN POINT AREA   \n",
      "3  PHA010003                   GOSFORD - SPRINGFIELD/ WYOMING   \n",
      "4  PHA010004                 KARIONG/ POINT CLARE - KOOLEWONG   \n",
      "\n",
      "   Low_SES_Percent  Internet_NoAccess  Housing_Unsuitable  Unemployment_Rate  \\\n",
      "0         0.000000          10.572412            1.982959               5.03   \n",
      "1        58.563907          11.100761            3.470032               5.41   \n",
      "2        75.284202          16.663458            2.108037               5.41   \n",
      "3         0.000000          17.063936            3.860093               7.67   \n",
      "4         0.000000          11.160402            2.657658               6.33   \n",
      "\n",
      "   Education_Level_Low  English_Proficiency_Low  Aboriginal_Percent  \\\n",
      "0                 26.9                 8.591885            2.679770   \n",
      "1                 20.0                12.437811            3.194856   \n",
      "2                 21.6                12.823674            2.756720   \n",
      "3                 21.7                14.855811            3.665543   \n",
      "4                 21.2                13.314711            3.344894   \n",
      "\n",
      "   Senior_65Plus_Percent  Elderly_70_PermInstitution       Year  \n",
      "0              19.451951                    0.000000  2017-2018  \n",
      "1              14.529785                    4.997550  2017-2018  \n",
      "2              26.236507                    8.818043  2017-2018  \n",
      "3              19.298019                    9.109357  2017-2018  \n",
      "4              14.835506                    9.078114  2017-2018  \n",
      "Cleaned file saved as 'PHA_SOCIOECO&POP.csv'\n"
     ]
    }
   ],
   "source": [
    "import pandas as pd\n",
    "\n",
    "# Step 1: Load the dataset\n",
    "socioeco_df = pd.read_csv(\"PHA_SOCIOECO&POP_CHARACTERISTIC.csv\")\n",
    "\n",
    "# Step 2: Drop rows where 'Region' or 'Code' is missing\n",
    "socioeco_df = socioeco_df.dropna(subset=['Region', 'Code'])\n",
    "\n",
    "# Step 3: Fill missing values in numerical columns with their column means\n",
    "socioeco_df = socioeco_df.fillna(socioeco_df.mean(numeric_only=True))\n",
    "\n",
    "# Step 4: Standardize 'Region' names for merging (remove spaces, make uppercase)\n",
    "socioeco_df['Region'] = socioeco_df['Region'].str.strip().str.upper()\n",
    "\n",
    "# Step 5: Optional check to confirm cleaning was successful\n",
    "print(\"Cleaning Complete\")\n",
    "print(\"Remaining missing values:\\n\", socioeco_df.isnull().sum())\n",
    "print(\"Shape after cleaning:\", socioeco_df.shape)\n",
    "print(\"Sample cleaned data:\")\n",
    "print(socioeco_df.head())\n",
    "socioeco_df.to_csv(\"PHA_SOCIOECO&POP.csv\", index=False, encoding=\"utf-8-sig\")\n",
    "print(\"Cleaned file saved as 'PHA_SOCIOECO&POP.csv'\")"
   ]
  },
  {
   "cell_type": "markdown",
   "id": "19117346-4d6b-4870-8f1d-e597e9835826",
   "metadata": {
    "jp-MarkdownHeadingCollapsed": true,
    "panel-layout": {
     "height": 43.19791793823242,
     "visible": true,
     "width": 100
    }
   },
   "source": [
    "####  CVD Risk-factors-prevalence"
   ]
  },
  {
   "cell_type": "code",
   "execution_count": 37,
   "id": "ec2d1a77-258d-4af4-a34b-6c677f5b1bff",
   "metadata": {
    "panel-layout": {
     "height": 258.66668701171875,
     "visible": true,
     "width": 100
    }
   },
   "outputs": [
    {
     "data": {
      "text/html": [
       "<div>\n",
       "<style scoped>\n",
       "    .dataframe tbody tr th:only-of-type {\n",
       "        vertical-align: middle;\n",
       "    }\n",
       "\n",
       "    .dataframe tbody tr th {\n",
       "        vertical-align: top;\n",
       "    }\n",
       "\n",
       "    .dataframe thead th {\n",
       "        text-align: right;\n",
       "    }\n",
       "</style>\n",
       "<table border=\"1\" class=\"dataframe\">\n",
       "  <thead>\n",
       "    <tr style=\"text-align: right;\">\n",
       "      <th></th>\n",
       "      <th>AgeGroup</th>\n",
       "      <th>CI_Proportion_Lower</th>\n",
       "      <th>CI_Proportion_Upper</th>\n",
       "      <th>Code</th>\n",
       "      <th>Gender</th>\n",
       "      <th>Number</th>\n",
       "      <th>Population</th>\n",
       "      <th>Proportion (%)</th>\n",
       "      <th>Region</th>\n",
       "      <th>Risk_Factor</th>\n",
       "      <th>Source_File</th>\n",
       "      <th>Year</th>\n",
       "    </tr>\n",
       "  </thead>\n",
       "  <tbody>\n",
       "    <tr>\n",
       "      <th>0</th>\n",
       "      <td>18-54</td>\n",
       "      <td>9.3</td>\n",
       "      <td>11.3</td>\n",
       "      <td>PHN101</td>\n",
       "      <td>Females</td>\n",
       "      <td>47211.90</td>\n",
       "      <td>459106.30</td>\n",
       "      <td>10.28</td>\n",
       "      <td>CENTRAL AND EASTERN SYDNEY</td>\n",
       "      <td>Current Smoker</td>\n",
       "      <td>PHN_CS_AGE_SEX</td>\n",
       "      <td>2017–2018</td>\n",
       "    </tr>\n",
       "    <tr>\n",
       "      <th>1</th>\n",
       "      <td>55-74</td>\n",
       "      <td>9.2</td>\n",
       "      <td>11.3</td>\n",
       "      <td>PHN101</td>\n",
       "      <td>Females</td>\n",
       "      <td>14321.66</td>\n",
       "      <td>140001.20</td>\n",
       "      <td>10.23</td>\n",
       "      <td>CENTRAL AND EASTERN SYDNEY</td>\n",
       "      <td>Current Smoker</td>\n",
       "      <td>PHN_CS_AGE_SEX</td>\n",
       "      <td>2017–2018</td>\n",
       "    </tr>\n",
       "    <tr>\n",
       "      <th>2</th>\n",
       "      <td>75+</td>\n",
       "      <td>3.4</td>\n",
       "      <td>4.9</td>\n",
       "      <td>PHN101</td>\n",
       "      <td>Females</td>\n",
       "      <td>2011.99</td>\n",
       "      <td>48400.83</td>\n",
       "      <td>4.16</td>\n",
       "      <td>CENTRAL AND EASTERN SYDNEY</td>\n",
       "      <td>Current Smoker</td>\n",
       "      <td>PHN_CS_AGE_SEX</td>\n",
       "      <td>2017–2018</td>\n",
       "    </tr>\n",
       "    <tr>\n",
       "      <th>3</th>\n",
       "      <td>18-54</td>\n",
       "      <td>16.3</td>\n",
       "      <td>19.4</td>\n",
       "      <td>PHN101</td>\n",
       "      <td>Males</td>\n",
       "      <td>82162.28</td>\n",
       "      <td>460007.60</td>\n",
       "      <td>17.86</td>\n",
       "      <td>CENTRAL AND EASTERN SYDNEY</td>\n",
       "      <td>Current Smoker</td>\n",
       "      <td>PHN_CS_AGE_SEX</td>\n",
       "      <td>2017–2018</td>\n",
       "    </tr>\n",
       "    <tr>\n",
       "      <th>4</th>\n",
       "      <td>55-74</td>\n",
       "      <td>10.0</td>\n",
       "      <td>12.2</td>\n",
       "      <td>PHN101</td>\n",
       "      <td>Males</td>\n",
       "      <td>14507.93</td>\n",
       "      <td>130964.10</td>\n",
       "      <td>11.08</td>\n",
       "      <td>CENTRAL AND EASTERN SYDNEY</td>\n",
       "      <td>Current Smoker</td>\n",
       "      <td>PHN_CS_AGE_SEX</td>\n",
       "      <td>2017–2018</td>\n",
       "    </tr>\n",
       "  </tbody>\n",
       "</table>\n",
       "</div>"
      ],
      "text/plain": [
       "  AgeGroup  CI_Proportion_Lower  CI_Proportion_Upper    Code   Gender  \\\n",
       "0    18-54                  9.3                 11.3  PHN101  Females   \n",
       "1    55-74                  9.2                 11.3  PHN101  Females   \n",
       "2      75+                  3.4                  4.9  PHN101  Females   \n",
       "3    18-54                 16.3                 19.4  PHN101    Males   \n",
       "4    55-74                 10.0                 12.2  PHN101    Males   \n",
       "\n",
       "     Number  Population  Proportion (%)                      Region  \\\n",
       "0  47211.90   459106.30           10.28  CENTRAL AND EASTERN SYDNEY   \n",
       "1  14321.66   140001.20           10.23  CENTRAL AND EASTERN SYDNEY   \n",
       "2   2011.99    48400.83            4.16  CENTRAL AND EASTERN SYDNEY   \n",
       "3  82162.28   460007.60           17.86  CENTRAL AND EASTERN SYDNEY   \n",
       "4  14507.93   130964.10           11.08  CENTRAL AND EASTERN SYDNEY   \n",
       "\n",
       "      Risk_Factor     Source_File       Year  \n",
       "0  Current Smoker  PHN_CS_AGE_SEX  2017–2018  \n",
       "1  Current Smoker  PHN_CS_AGE_SEX  2017–2018  \n",
       "2  Current Smoker  PHN_CS_AGE_SEX  2017–2018  \n",
       "3  Current Smoker  PHN_CS_AGE_SEX  2017–2018  \n",
       "4  Current Smoker  PHN_CS_AGE_SEX  2017–2018  "
      ]
     },
     "execution_count": 37,
     "metadata": {},
     "output_type": "execute_result"
    }
   ],
   "source": [
    "# Load the dataset\n",
    "df = pd.read_csv(\"Risk_Factors.csv\")\n",
    "df.head()"
   ]
  },
  {
   "cell_type": "markdown",
   "id": "3732e44a-8576-4579-9457-0a798ecaa57f",
   "metadata": {
    "jp-MarkdownHeadingCollapsed": true,
    "panel-layout": {
     "height": 43.19791793823242,
     "visible": true,
     "width": 100
    }
   },
   "source": [
    "#### CVD Merging"
   ]
  },
  {
   "cell_type": "code",
   "execution_count": 55,
   "id": "8f7b65af-6516-4454-b009-8a222fc32f04",
   "metadata": {
    "panel-layout": {
     "height": 0,
     "visible": true,
     "width": 100
    }
   },
   "outputs": [
    {
     "name": "stdout",
     "output_type": "stream",
     "text": [
      "Merged dataset shape: (496, 17)\n",
      "Columns: ['Code', 'Region', 'Gender', 'AgeGroup', 'CVD_Deaths', 'CVD_Population', 'DeathRatePer100k', 'Lower_CI(%)', 'Upper_CI(%)', 'Number', 'Population', 'Proportion (%)', 'Risk_Factor', 'CVD_Hospitalisations', 'CVD_Hosp_Population', 'HospitalisationsPer100k', 'Year']\n"
     ]
    }
   ],
   "source": [
    "import pandas as pd\n",
    "\n",
    "# Load the datasets (replace with your actual file paths if needed)\n",
    "cvd_death = pd.read_csv(\"PHN_CVD_DEATH_AGE&SEX.csv\")\n",
    "risk_factors = pd.read_csv(\"Risk_Factors_CVD.csv\")\n",
    "cvd_hosp = pd.read_csv(\"PHN_CVD_HOSP_AGE&SEX_1YR.csv\")\n",
    "\n",
    "# Clean and standardize key columns\n",
    "def clean_keys(df):\n",
    "    if \"Code\" in df.columns:\n",
    "        df[\"Code\"] = df[\"Code\"].astype(str).str.strip().str.upper()\n",
    "    if \"Region\" in df.columns:\n",
    "        df[\"Region\"] = df[\"Region\"].astype(str).str.strip().str.upper()\n",
    "    if \"Gender\" in df.columns:\n",
    "        df[\"Gender\"] = df[\"Gender\"].astype(str).str.strip().str.capitalize()\n",
    "    if \"AgeGroup\" in df.columns:\n",
    "        df[\"AgeGroup\"] = df[\"AgeGroup\"].astype(str).str.replace(\"–\", \"-\").str.replace(\" \", \"\").str.strip()\n",
    "    return df\n",
    "\n",
    "# Apply cleaning to all datasets\n",
    "cvd_death = clean_keys(cvd_death)\n",
    "risk_factors = clean_keys(risk_factors)\n",
    "cvd_hosp = clean_keys(cvd_hosp)\n",
    "\n",
    "# Rename columns in death dataset for consistency\n",
    "cvd_death.rename(columns={\n",
    "    'Annualised deaths': 'AnnualisedDeaths',\n",
    "    'Annualised population': 'AnnualisedPop'\n",
    "}, inplace=True)\n",
    "\n",
    "# Step 1: Merge CVD Deaths + Risk Factors (inner join)\n",
    "merged1 = pd.merge(\n",
    "    cvd_death,\n",
    "    risk_factors,\n",
    "    on=[\"Code\", \"Region\", \"Gender\", \"AgeGroup\"],\n",
    "    how=\"inner\"\n",
    ")\n",
    "\n",
    "# Step 2: Merge the result with Hospitalisation data (inner join)\n",
    "final_merged = pd.merge(\n",
    "    merged1,\n",
    "    cvd_hosp,\n",
    "    on=[\"Code\", \"Region\", \"Gender\", \"AgeGroup\"],\n",
    "    how=\"inner\"\n",
    ")\n",
    "# If all are the same, keep one and drop others\n",
    "final_merged['Year'] = final_merged['Year_x']  # or whichever is most accurate\n",
    "final_merged.drop(columns=['Year_x', 'Year_y'], inplace=True)\n",
    "\n",
    "# Optional: Filter only 2017-2018 rows if not consistent\n",
    "final_merged = final_merged[final_merged['Year'] == '2017-2018']\n",
    "\n",
    "# Remove \"Persons\" for gender-based analysis\n",
    "final_merged = final_merged[final_merged['Gender'] != 'Persons']\n",
    "final_merged = final_merged.rename(columns={\n",
    "    'AnnualisedDeaths_x': 'CVD_Deaths',\n",
    "    'AnnualisedPop_x': 'CVD_Population',\n",
    "    'AnnualisedDeaths_y': 'CVD_Hospitalisations',\n",
    "    'AnnualisedPop_y': 'CVD_Hosp_Population'\n",
    "})\n",
    "\n",
    "final_merged = final_merged.rename(columns={\n",
    "    'CI_Proportion_Lower': 'Lower_CI(%)',\n",
    "    'CI_Proportion_Upper': 'Upper_CI(%)'\n",
    "})\n",
    "\n",
    "# Save the merged dataset to a new CSV file\n",
    "final_merged.to_excel(\"Merged_CVD.xlsx\", index=False, engine='openpyxl')\n",
    "\n",
    "# Optional: Display basic info\n",
    "print(\"Merged dataset shape:\", final_merged.shape)\n",
    "print(\"Columns:\", final_merged.columns.tolist())"
   ]
  },
  {
   "cell_type": "code",
   "execution_count": 84,
   "id": "2392dfec-51f9-4548-925b-69d55d15a165",
   "metadata": {
    "panel-layout": {
     "height": 0,
     "visible": true,
     "width": 100
    }
   },
   "outputs": [
    {
     "name": "stdout",
     "output_type": "stream",
     "text": [
      "Code                                category\n",
      "Region                              category\n",
      "Gender                              category\n",
      "AgeGroup                            category\n",
      "CVD_Deaths                           float64\n",
      "CVD_Population                       float64\n",
      "DeathRatePer100k                     float64\n",
      "Lower_CI(%)                          float64\n",
      "Upper_CI(%)                          float64\n",
      "Number                               float64\n",
      "Population                           float64\n",
      "Proportion (%)                       float64\n",
      "Risk_Factor                         category\n",
      "CVD_Hospitalisations                 float64\n",
      "CVD_Hosp_Population                  float64\n",
      "HospitalisationsPer100k              float64\n",
      "Year                                category\n",
      "Low_SES_Percent                      float64\n",
      "Internet_NoAccess                    float64\n",
      "Housing_Unsuitable                   float64\n",
      "Unemployment_Rate                    float64\n",
      "Education_Level_Low                  float64\n",
      "English_Proficiency_Low              float64\n",
      "Aboriginal_Percent                   float64\n",
      "Senior_65Plus_Percent                float64\n",
      "Elderly_70_PermInstitution           float64\n",
      "Year_Start                    datetime64[ns]\n",
      "dtype: object\n",
      "Merge completed and saved as 'Final_CVD_Merged.xlsx'\n"
     ]
    }
   ],
   "source": [
    "import pandas as pd\n",
    "\n",
    "# Step 1: Load datasets\n",
    "main_df = pd.read_excel(\"Merged_CVD.xlsx\")\n",
    "socio_df = pd.read_csv(\"PHA_SOCIOECO&POP.csv\")\n",
    "region_map = pd.read_excel(\n",
    "    \"phn-2017-concordance-files-ASGD-2021-statistical-area-level-2.xlsx\",\n",
    "    sheet_name=\"CG_SA2_2021_PHN_2017_All\"\n",
    ")\n",
    "\n",
    "# Step 2: Clean columns\n",
    "def clean_keys(df):\n",
    "    df[\"Code\"] = df[\"Code\"].astype(str).str.strip().str.upper()\n",
    "    df[\"Region\"] = df[\"Region\"].astype(str).str.strip().str.upper()\n",
    "    return df\n",
    "\n",
    "main_df = clean_keys(main_df)\n",
    "socio_df = clean_keys(socio_df)\n",
    "\n",
    "# Step 3: Rename concordance columns for easier mapping\n",
    "region_map = region_map.rename(columns={\n",
    "    \"SA2_NAME_2021\": \"Region\",          # SA2 name to match with socioeconomic region\n",
    "    \"PHN_NAME_2017\": \"Mapped_Region\"   # PHN name to use for grouping\n",
    "})\n",
    "region_map[\"Region\"] = region_map[\"Region\"].str.strip().str.upper()\n",
    "region_map[\"Mapped_Region\"] = region_map[\"Mapped_Region\"].str.strip().str.upper()\n",
    "\n",
    "# Step 4: Merge mapping into socioeconomic dataset\n",
    "socio_df = socio_df.merge(region_map[[\"Region\", \"Mapped_Region\"]], on=\"Region\", how=\"left\")\n",
    "\n",
    "# Step 5: Drop rows without valid PHN mapping\n",
    "socio_df = socio_df.dropna(subset=[\"Mapped_Region\"])\n",
    "\n",
    "# Step 6: Aggregate the socioeconomic data by PHN region\n",
    "socio_agg = socio_df.groupby([\"Mapped_Region\"], as_index=False).mean(numeric_only=True)\n",
    "socio_agg = socio_agg.rename(columns={\"Mapped_Region\": \"Region\"})\n",
    "\n",
    "# Step 7: Merge aggregated socioeconomic data with main dataset\n",
    "final_df = pd.merge(main_df, socio_agg, on=\"Region\", how=\"left\")\n",
    "\n",
    "# Drop missing socioeconomic rows\n",
    "final_df = final_df.dropna()\n",
    "\n",
    "#Convert text columns to categorical - reason:This saves memory and improves performance in models\n",
    "categorical_cols = ['Code', 'Region', 'Gender', 'AgeGroup', 'Risk_Factor', 'Year']\n",
    "final_df[categorical_cols] = final_df[categorical_cols].astype('category')\n",
    "\n",
    "#Convert numeric columns to float - if they accidentally loaded as object)\n",
    "numeric_cols = final_df.columns.difference(categorical_cols)\n",
    "final_df[numeric_cols] = final_df[numeric_cols].apply(pd.to_numeric, errors='coerce')\n",
    "\n",
    "# Example only if year is in format like '2017-2018'\n",
    "final_df[\"Year_Start\"] = final_df[\"Year\"].str.split(\"-\").str[0].astype(int)\n",
    "final_df[\"Year_Start\"] = pd.to_datetime(final_df[\"Year_Start\"], format='%Y')\n",
    "\n",
    "# Checking data type \n",
    "final_df.dtypes\n",
    "print(final_df.dtypes)\n",
    "\n",
    "# Step 8: Save the final merged output\n",
    "final_df.to_excel(\"Final_CVD_Merged.xlsx\", index=False)\n",
    "\n",
    "print(\"Merge completed and saved as 'Final_CVD_Merged.xlsx'\")"
   ]
  },
  {
   "cell_type": "markdown",
   "id": "e2063be4-1f45-4480-b225-432812571ad5",
   "metadata": {
    "jp-MarkdownHeadingCollapsed": true,
    "panel-layout": {
     "height": 44.07291793823242,
     "visible": true,
     "width": 100
    }
   },
   "source": [
    "### Changing the Merge Dataset in LongFormat"
   ]
  },
  {
   "cell_type": "code",
   "execution_count": 89,
   "id": "f93e17af-ec7e-4c86-9984-b0e65112ce4d",
   "metadata": {
    "panel-layout": {
     "height": 0,
     "visible": true,
     "width": 100
    }
   },
   "outputs": [
    {
     "name": "stdout",
     "output_type": "stream",
     "text": [
      "                                   Region                         State\n",
      "464          AUSTRALIAN CAPITAL TERRITORY  Australian Capital Territory\n",
      "144                          MURRUMBIDGEE               New South Wales\n",
      "128                           NORTH COAST               New South Wales\n",
      "112  HUNTER NEW ENGLAND AND CENTRAL COAST               New South Wales\n",
      "96                            WESTERN NSW               New South Wales\n",
      "0              CENTRAL AND EASTERN SYDNEY               New South Wales\n",
      "64                   SOUTH WESTERN SYDNEY               New South Wales\n",
      "48                  NEPEAN BLUE MOUNTAINS               New South Wales\n",
      "32                         WESTERN SYDNEY               New South Wales\n",
      "16                        NORTHERN SYDNEY               New South Wales\n",
      "80                      SOUTH EASTERN NSW               New South Wales\n",
      "448                    NORTHERN TERRITORY            Northern Territory\n",
      "336                   NORTHERN QUEENSLAND                    Queensland\n",
      "320                    WESTERN QUEENSLAND                    Queensland\n",
      "304        DARLING DOWNS AND WEST MORETON                    Queensland\n",
      "288                            GOLD COAST                    Queensland\n",
      "272                        BRISBANE SOUTH                    Queensland\n",
      "256                        BRISBANE NORTH                    Queensland\n",
      "352                              ADELAIDE               South Australia\n",
      "368                            COUNTRY SA               South Australia\n",
      "432                              TASMANIA                      Tasmania\n",
      "240                      WESTERN VICTORIA                      Victoria\n",
      "208                             GIPPSLAND                      Victoria\n",
      "192               SOUTH EASTERN MELBOURNE                      Victoria\n",
      "176                     EASTERN MELBOURNE                      Victoria\n",
      "160               NORTH WESTERN MELBOURNE                      Victoria\n",
      "224                                MURRAY                      Victoria\n",
      "384                           PERTH NORTH             Western Australia\n",
      "400                           PERTH SOUTH             Western Australia\n",
      "416                            COUNTRY WA             Western Australia\n",
      "Excel file 'SES_vs_CVD_LongFormat.xlsx' created successfully.\n"
     ]
    }
   ],
   "source": [
    "import pandas as pd\n",
    "\n",
    "# Load your dataset (replace with your own path if needed)\n",
    "df = pd.read_excel(\"Final_CVD_Merged.xlsx\")\n",
    "\n",
    "# Step 1: Define relevant columns\n",
    "ses_columns = [\n",
    "    'Low_SES_Percent', 'Unemployment_Rate', 'Education_Level_Low',\n",
    "    'Housing_Unsuitable', 'Internet_NoAccess', 'English_Proficiency_Low',\n",
    "    'Aboriginal_Percent'\n",
    "]\n",
    "\n",
    "cvd_columns = ['DeathRatePer100k', 'HospitalisationsPer100k']\n",
    "\n",
    "id_columns = ['Code', 'Region', 'Gender', 'AgeGroup', 'Year', 'Year_Start']\n",
    "\n",
    "# Step 2: Keep only necessary columns\n",
    "long_df = df[id_columns + cvd_columns + ses_columns].copy()\n",
    "\n",
    "# Step 3: Unpivot SES columns into long format\n",
    "long_format = pd.melt(\n",
    "    long_df,\n",
    "    id_vars=id_columns + cvd_columns,\n",
    "    value_vars=ses_columns,\n",
    "    var_name='SES_Variable',\n",
    "    value_name='SES_Value'\n",
    ")\n",
    "# Step : Define PHN → State mapping\n",
    "phn_to_state = {\n",
    "    \"CENTRAL AND EASTERN SYDNEY\": \"New South Wales\",\n",
    "    \"SOUTH WESTERN SYDNEY\": \"New South Wales\",\n",
    "    \"NEPEAN BLUE MOUNTAINS\": \"New South Wales\",\n",
    "    \"WESTERN NSW\": \"New South Wales\",\n",
    "    \"MURRUMBIDGEE\": \"New South Wales\",\n",
    "    \"NORTHERN SYDNEY\": \"New South Wales\",\n",
    "    \"SYDNEY\": \"New South Wales\",\n",
    "    \"HUNTER NEW ENGLAND AND CENTRAL COAST\": \"New South Wales\",\n",
    "    \"SOUTH EASTERN MELBOURNE\": \"Victoria\",\n",
    "    \"EASTERN MELBOURNE\": \"Victoria\",\n",
    "    \"WESTERN VICTORIA\": \"Victoria\",\n",
    "    \"GIPPSLAND\": \"Victoria\",\n",
    "    \"MURRAY\": \"Victoria\",\n",
    "    \"NORTH WESTERN MELBOURNE\": \"Victoria\",\n",
    "    \"BRISBANE NORTH\": \"Queensland\",\n",
    "    \"BRISBANE SOUTH\": \"Queensland\",\n",
    "    \"DARLING DOWNS AND WEST MORETON\": \"Queensland\",\n",
    "    \"GOLD COAST\": \"Queensland\",\n",
    "    \"SUNSHINE COAST\": \"Queensland\",\n",
    "    \"WESTERN QUEENSLAND\": \"Queensland\",\n",
    "    \"NORTHERN QUEENSLAND\": \"Queensland\",\n",
    "    \"COUNTRY WA\": \"Western Australia\",\n",
    "    \"PERTH NORTH\": \"Western Australia\",\n",
    "    \"PERTH SOUTH\": \"Western Australia\",\n",
    "    \"COUNTRY SA\": \"South Australia\",\n",
    "    \"ADELAIDE\": \"South Australia\",\n",
    "    \"NORTHERN TERRITORY\": \"Northern Territory\",\n",
    "    \"TASMANIA\": \"Tasmania\",\n",
    "    \"AUSTRALIAN CAPITAL TERRITORY\": \"Australian Capital Territory\",\n",
    "    \"WESTERN SYDNEY\": \"New South Wales\",\n",
    "    \"SOUTH EASTERN NSW\": \"New South Wales\",\n",
    "    \"NORTH COAST\": \"New South Wales\"\n",
    "}\n",
    "\n",
    "# Step : Map the Region column to State\n",
    "long_format[\"State\"] = long_format[\"Region\"].map(lambda r: phn_to_state.get(r.strip().upper(), \"Unknown\"))\n",
    "\n",
    "# Step : Preview the mapping\n",
    "print(long_format[[\"Region\", \"State\"]].drop_duplicates().sort_values(\"State\"))\n",
    "# Step : Save to Excel for Tableau\n",
    "long_format.to_excel(\"SES_vs_CVD_LongFormat.xlsx\", index=False)\n",
    "print(\"Excel file 'SES_vs_CVD_LongFormat.xlsx' created successfully.\")"
   ]
  },
  {
   "cell_type": "markdown",
   "id": "fe74981e-6fc1-4318-8fed-1687659dd057",
   "metadata": {
    "panel-layout": {
     "height": 44.07291793823242,
     "visible": true,
     "width": 100
    }
   },
   "source": [
    "###  EDA Visualization "
   ]
  },
  {
   "cell_type": "code",
   "execution_count": 91,
   "id": "b9d3b1e8-130a-4190-924d-50777b4226ff",
   "metadata": {
    "panel-layout": {
     "height": 0,
     "visible": true,
     "width": 100
    }
   },
   "outputs": [],
   "source": [
    "import pandas as pd\n",
    "import matplotlib.pyplot as plt\n",
    "import seaborn as sns\n",
    "\n",
    "# Load your dataset\n",
    "df = pd.read_excel(\"SES_vs_CVD_LongFormat.xlsx\")\n",
    "\n",
    "# Set plot style\n",
    "sns.set(style=\"whitegrid\")"
   ]
  },
  {
   "cell_type": "markdown",
   "id": "cbcf2b0b-62a0-4350-9e4e-f71ff37cb6cb",
   "metadata": {
    "jp-MarkdownHeadingCollapsed": true,
    "panel-layout": {
     "height": 43.19791793823242,
     "visible": true,
     "width": 100
    }
   },
   "source": [
    "#### Distribution of SES Values"
   ]
  },
  {
   "cell_type": "code",
   "execution_count": 92,
   "id": "15f37215-34d5-489d-89ad-cededa00b439",
   "metadata": {
    "panel-layout": {
     "height": 730,
     "visible": true,
     "width": 100
    }
   },
   "outputs": [
    {
     "data": {
      "image/png": "[encoded data removed]",
      "text/plain": [
       "<Figure size 1000x500 with 1 Axes>"
      ]
     },
     "metadata": {},
     "output_type": "display_data"
    }
   ],
   "source": [
    "plt.figure(figsize=(10, 5))\n",
    "sns.histplot(data=df, x=\"SES_Value\", hue=\"SES_Variable\", bins=30, kde=True)\n",
    "plt.title(\"Distribution of SES Indicators\")\n",
    "plt.xlabel(\"SES Value\")\n",
    "plt.ylabel(\"Count\")\n",
    "plt.show()"
   ]
  },
  {
   "cell_type": "markdown",
   "id": "949fc4c1-a5ca-401b-ac94-ba127b2bb8f8",
   "metadata": {
    "jp-MarkdownHeadingCollapsed": true,
    "panel-layout": {
     "height": 43.19791793823242,
     "visible": true,
     "width": 100
    }
   },
   "source": [
    "#### Scatter Plot: SES Value vs Death Rate"
   ]
  },
  {
   "cell_type": "code",
   "execution_count": 93,
   "id": "f157795f-ebfa-4235-9447-fcfedf05a8f6",
   "metadata": {
    "panel-layout": {
     "height": 874,
     "visible": true,
     "width": 100
    }
   },
   "outputs": [
    {
     "data": {
      "image/png": "[encoded data removed]",
      "text/plain": [
       "<Figure size 1000x600 with 1 Axes>"
      ]
     },
     "metadata": {},
     "output_type": "display_data"
    }
   ],
   "source": [
    "plt.figure(figsize=(10, 6))\n",
    "subset = df[df[\"SES_Variable\"] == \"Low_SES_Percent\"]\n",
    "sns.scatterplot(data=subset, x=\"SES_Value\", y=\"DeathRatePer100k\", hue=\"Gender\")\n",
    "sns.regplot(data=subset, x=\"SES_Value\", y=\"DeathRatePer100k\", scatter=False, color='gray')\n",
    "plt.title(\"Low SES % vs CVD Death Rate\")\n",
    "plt.xlabel(\"Low SES (%)\")\n",
    "plt.ylabel(\"CVD Death Rate per 100k\")\n",
    "plt.show()"
   ]
  },
  {
   "cell_type": "markdown",
   "id": "9ba9e809-ee90-4f3f-ba4a-8843c3323825",
   "metadata": {
    "jp-MarkdownHeadingCollapsed": true,
    "panel-layout": {
     "height": 43.19791793823242,
     "visible": true,
     "width": 100
    }
   },
   "source": [
    "####  Scatter Plot: SES Value vs Hospitalisations"
   ]
  },
  {
   "cell_type": "code",
   "execution_count": 94,
   "id": "d7853325-a057-4b04-b257-b6ddede0f171",
   "metadata": {
    "panel-layout": {
     "height": 874,
     "visible": true,
     "width": 100
    }
   },
   "outputs": [
    {
     "data": {
      "image/png": "[encoded data removed]",
      "text/plain": [
       "<Figure size 1000x600 with 1 Axes>"
      ]
     },
     "metadata": {},
     "output_type": "display_data"
    }
   ],
   "source": [
    "plt.figure(figsize=(10, 6))\n",
    "sns.scatterplot(data=subset, x=\"SES_Value\", y=\"HospitalisationsPer100k\", hue=\"AgeGroup\")\n",
    "sns.regplot(data=subset, x=\"SES_Value\", y=\"HospitalisationsPer100k\", scatter=False, color='black')\n",
    "plt.title(\"Low SES % vs CVD Hospitalisations\")\n",
    "plt.xlabel(\"Low SES (%)\")\n",
    "plt.ylabel(\"Hospitalisations per 100k\")\n",
    "plt.show()"
   ]
  },
  {
   "cell_type": "markdown",
   "id": "b308ec7b-13f0-489e-a6b7-5cbaf3e8c94e",
   "metadata": {
    "jp-MarkdownHeadingCollapsed": true,
    "panel-layout": {
     "height": 43.19791793823242,
     "visible": true,
     "width": 100
    }
   },
   "source": [
    "#### Box Plot – Compare by Gender"
   ]
  },
  {
   "cell_type": "code",
   "execution_count": 95,
   "id": "c046e9d7-3d66-4bc1-90cb-c1dc7548ab75",
   "metadata": {
    "panel-layout": {
     "height": 874,
     "visible": true,
     "width": 100
    }
   },
   "outputs": [
    {
     "data": {
      "image/png": "[encoded data removed]",
      "text/plain": [
       "<Figure size 1000x600 with 1 Axes>"
      ]
     },
     "metadata": {},
     "output_type": "display_data"
    }
   ],
   "source": [
    "plt.figure(figsize=(10, 6))\n",
    "sns.boxplot(data=subset, x=\"Gender\", y=\"DeathRatePer100k\")\n",
    "plt.title(\"CVD Death Rate by Gender (Low SES %)\")\n",
    "plt.ylabel(\"Death Rate per 100k\")\n",
    "plt.show()"
   ]
  },
  {
   "cell_type": "markdown",
   "id": "7caf30eb-8fb8-4a59-95db-b9bee15c4b94",
   "metadata": {
    "panel-layout": {
     "height": 43.19791793823242,
     "visible": true,
     "width": 100
    }
   },
   "source": [
    "#### Correlation Heatmap for Numeric Fields"
   ]
  },
  {
   "cell_type": "code",
   "execution_count": 96,
   "id": "b242d87b-b6fb-4196-be7c-a82a3e6b6457",
   "metadata": {
    "panel-layout": {
     "height": 874,
     "visible": true,
     "width": 100
    }
   },
   "outputs": [
    {
     "data": {
      "image/png": "[encoded data removed]",
      "text/plain": [
       "<Figure size 800x600 with 2 Axes>"
      ]
     },
     "metadata": {},
     "output_type": "display_data"
    }
   ],
   "source": [
    "plt.figure(figsize=(8, 6))\n",
    "sns.heatmap(df[[\"SES_Value\", \"DeathRatePer100k\", \"HospitalisationsPer100k\"]].corr(), annot=True, cmap=\"coolwarm\")\n",
    "plt.title(\"Correlation Matrix\")\n",
    "plt.show()"
   ]
  },
  {
   "cell_type": "code",
   "execution_count": null,
   "id": "d8f0125c-b562-47af-8002-7c774a9fbbb9",
   "metadata": {},
   "outputs": [],
   "source": []
  }
 ],
 "metadata": {
  "kernelspec": {
   "display_name": "Python 3 (ipykernel)",
   "language": "python",
   "name": "python3"
  },
  "language_info": {
   "codemirror_mode": {
    "name": "ipython",
    "version": 3
   },
   "file_extension": ".py",
   "mimetype": "text/x-python",
   "name": "python",
   "nbconvert_exporter": "python",
   "pygments_lexer": "ipython3",
   "version": "3.12.7"
  },
  "panel-cell-order": [
   "19ab44b9-4cc6-4e81-8849-aa79a621ad8b",
   "895d3ae9-3c43-44b6-a19a-85cec0a96064",
   "632dd903-db88-4378-a1e3-d3c6514c01b5",
   "87f06836-cadb-457b-8322-af66cfb30f33",
   "a256960f-030c-4746-a304-76cf3ef3cc05",
   "62c35341-25c1-467f-82b9-78060a3ba521",
   "0f9b40a2-2a1c-4574-bbd6-a0cedb95883f",
   "3044bb66-bd48-4f06-b1a9-fcd164c301b8",
   "d2553ac5-151d-457c-8bc5-ad2df4701f39",
   "876e7e7f-9405-4b9d-9f33-56e4a8b01eaa",
   "52839e59-ac70-49d8-a370-8c20028094e6",
   "09a49297-1e25-48b8-b450-c5096bad3290",
   "534aecbd-e60a-4f38-aac9-0fb05b983ada",
   "1d7b0923-7f5b-4667-af41-ca15db85f68a",
   "945fee6b-a479-4908-b4b8-846633f318f0",
   "f4403cec-0518-4903-8b42-f763a49a4d54",
   "5ae558e9-6d17-436e-afa5-b1df8f32d092",
   "dbde5ea3-6c21-4920-9cc8-e904c847fbfb",
   "d6e00daa-32c6-4d13-a6be-86d0cafbd6e6",
   "19117346-4d6b-4870-8f1d-e597e9835826",
   "ec2d1a77-258d-4af4-a34b-6c677f5b1bff",
   "3732e44a-8576-4579-9457-0a798ecaa57f",
   "8f7b65af-6516-4454-b009-8a222fc32f04",
   "2392dfec-51f9-4548-925b-69d55d15a165",
   "e2063be4-1f45-4480-b225-432812571ad5",
   "f93e17af-ec7e-4c86-9984-b0e65112ce4d",
   "fe74981e-6fc1-4318-8fed-1687659dd057",
   "b9d3b1e8-130a-4190-924d-50777b4226ff",
   "cbcf2b0b-62a0-4350-9e4e-f71ff37cb6cb",
   "15f37215-34d5-489d-89ad-cededa00b439",
   "949fc4c1-a5ca-401b-ac94-ba127b2bb8f8",
   "f157795f-ebfa-4235-9447-fcfedf05a8f6",
   "9ba9e809-ee90-4f3f-ba4a-8843c3323825",
   "d7853325-a057-4b04-b257-b6ddede0f171",
   "b308ec7b-13f0-489e-a6b7-5cbaf3e8c94e",
   "c046e9d7-3d66-4bc1-90cb-c1dc7548ab75",
   "7caf30eb-8fb8-4a59-95db-b9bee15c4b94",
   "b242d87b-b6fb-4196-be7c-a82a3e6b6457"
  ]
 },
 "nbformat": 4,
 "nbformat_minor": 5
}
